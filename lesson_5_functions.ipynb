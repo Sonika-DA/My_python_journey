{
  "nbformat": 4,
  "nbformat_minor": 0,
  "metadata": {
    "colab": {
      "provenance": []
    },
    "kernelspec": {
      "name": "python3",
      "display_name": "Python 3"
    },
    "language_info": {
      "name": "python"
    }
  },
  "cells": [
    {
      "cell_type": "code",
      "execution_count": null,
      "metadata": {
        "id": "eFe64Thgzv-4",
        "colab": {
          "base_uri": "https://localhost:8080/"
        },
        "outputId": "6446275b-d5f4-4f13-c70c-addb4caade5e"
      },
      "outputs": [
        {
          "output_type": "stream",
          "name": "stdout",
          "text": [
            "hello, sonia how are you?\n"
          ]
        }
      ],
      "source": [
        "def greet(name):\n",
        "  print(f\"hello, {name} how are you?\")\n",
        "greet(\"sonia\")"
      ]
    },
    {
      "cell_type": "code",
      "source": [
        "def addition(num1, num2):\n",
        "    sum = num1 + num2\n",
        "    print(f\"The sum of num1 and num2 is:{sum}\")\n",
        "addition(1, 5)\n",
        "addition(0.5, 9)"
      ],
      "metadata": {
        "id": "i0kdnKfX2_5Y",
        "colab": {
          "base_uri": "https://localhost:8080/"
        },
        "outputId": "fa5ec16b-eb5a-4a6b-e437-4cd656d724b0"
      },
      "execution_count": null,
      "outputs": [
        {
          "output_type": "stream",
          "name": "stdout",
          "text": [
            "The sum of num1 and num2 is:6\n",
            "The sum of num1 and num2 is:9.5\n"
          ]
        }
      ]
    },
    {
      "cell_type": "code",
      "source": [
        "def petname(name, type):\n",
        "  print(f\"my pet name is {name} and its {type}\")\n",
        "petname(\"max\", \"dog\")\n",
        "petname(name = \"sheero\", type = \"labradaor\")"
      ],
      "metadata": {
        "colab": {
          "base_uri": "https://localhost:8080/"
        },
        "id": "6VhfwZMX4vNQ",
        "outputId": "cfc206de-e42f-448b-e9fa-45fb07518fa8"
      },
      "execution_count": null,
      "outputs": [
        {
          "output_type": "stream",
          "name": "stdout",
          "text": [
            "my pet name is max and its dog\n",
            "my pet name is sheero and its labradaor\n"
          ]
        }
      ]
    },
    {
      "cell_type": "code",
      "source": [
        "def pet_describe_default(pet_name, animal_type = 'dog'):\n",
        "  print(f\"I have a {animal_type}.\")\n",
        "  print(f\"My {animal_type}'s name is {pet_name}.\")\n",
        "pet_describe_default('willie')"
      ],
      "metadata": {
        "colab": {
          "base_uri": "https://localhost:8080/"
        },
        "id": "oBBB-J7RInhi",
        "outputId": "8c3a901b-d74a-417c-cc8f-38afb70ce1f1"
      },
      "execution_count": null,
      "outputs": [
        {
          "output_type": "stream",
          "name": "stdout",
          "text": [
            "I have a dog.\n",
            "My dog's name is willie.\n"
          ]
        }
      ]
    },
    {
      "cell_type": "markdown",
      "source": [
        "**RETURN statement**"
      ],
      "metadata": {
        "id": "F0uy0_J_K9a0"
      }
    },
    {
      "cell_type": "code",
      "source": [
        "def calculate_square(number):\n",
        "  return number * number\n",
        "result1 = calculate_square(7)\n",
        "print(f\"The square of 7 is: {result1}\")\n",
        "result2 = calculate_square(12)\n",
        "print(f\"The square of 12 is: {result2}\")"
      ],
      "metadata": {
        "colab": {
          "base_uri": "https://localhost:8080/"
        },
        "id": "FnmetWooJn-n",
        "outputId": "1039688c-783f-4b2b-ba86-d894bd427a0f"
      },
      "execution_count": null,
      "outputs": [
        {
          "output_type": "stream",
          "name": "stdout",
          "text": [
            "The square of 7 is: 49\n",
            "The square of 12 is: 144\n"
          ]
        }
      ]
    },
    {
      "cell_type": "code",
      "source": [],
      "metadata": {
        "id": "0Lx4uDmLNjsn"
      },
      "execution_count": null,
      "outputs": []
    },
    {
      "cell_type": "code",
      "metadata": {
        "colab": {
          "base_uri": "https://localhost:8080/"
        },
        "id": "87a4f414",
        "outputId": "cc8f7bf7-4a7e-48bd-8f8f-885b0a7ec49b"
      },
      "source": [
        "numbers_to_square = [2, 5, 8, 11, 15.2]\n",
        "\n",
        "for number in numbers_to_square:\n",
        "  squared_value = calculate_square(number)\n",
        "  print(f\"The square of {number} is: {squared_value}\")"
      ],
      "execution_count": null,
      "outputs": [
        {
          "output_type": "stream",
          "name": "stdout",
          "text": [
            "The square of 2 is: 4\n",
            "The square of 5 is: 25\n",
            "The square of 8 is: 64\n",
            "The square of 11 is: 121\n",
            "The square of 15.2 is: 231.04\n"
          ]
        }
      ]
    },
    {
      "cell_type": "code",
      "source": [
        "def calculate_addition(num):\n",
        "  \"\"\"This function adds 5 to a given number.\"\"\"\n",
        "  return num + 5\n",
        "\n",
        "number_to_add = [1,2,3,4,5,6]\n",
        "for num in number_to_add:\n",
        "  added_value = calculate_addition(num)\n",
        "  print(f\"The sum of {num} and 5 is: {added_value}\")"
      ],
      "metadata": {
        "colab": {
          "base_uri": "https://localhost:8080/"
        },
        "id": "nxfy3GZOQCMC",
        "outputId": "36df6b45-65ab-4d86-b5b7-3645d7959fc1"
      },
      "execution_count": null,
      "outputs": [
        {
          "output_type": "stream",
          "name": "stdout",
          "text": [
            "The sum of 1 and 5 is: 6\n",
            "The sum of 2 and 5 is: 7\n",
            "The sum of 3 and 5 is: 8\n",
            "The sum of 4 and 5 is: 9\n",
            "The sum of 5 and 5 is: 10\n",
            "The sum of 6 and 5 is: 11\n"
          ]
        }
      ]
    },
    {
      "cell_type": "code",
      "source": [],
      "metadata": {
        "id": "rLgjdKLEQkNn"
      },
      "execution_count": null,
      "outputs": []
    },
    {
      "cell_type": "code",
      "metadata": {
        "colab": {
          "base_uri": "https://localhost:8080/"
        },
        "id": "713c34e3",
        "outputId": "929e647d-f3ca-4940-b416-07b4c27eec0b"
      },
      "source": [
        "def sum_list(numbers):\n",
        "  \"\"\"This function takes a list of numbers and returns their sum.\"\"\"\n",
        "  total = 0\n",
        "  for number in numbers:\n",
        "    total += number\n",
        "  return total\n",
        "\n",
        "my_numbers = [1, 2, 3, 4, 5, 6]\n",
        "list_sum = sum_list(my_numbers)\n",
        "print(f\"The sum of the numbers in the list is: {list_sum}\")"
      ],
      "execution_count": null,
      "outputs": [
        {
          "output_type": "stream",
          "name": "stdout",
          "text": [
            "The sum of the numbers in the list is: 21\n"
          ]
        }
      ]
    },
    {
      "cell_type": "code",
      "source": [
        "def multiply(numbers):\n",
        "  total = 1\n",
        "  for num in numbers:\n",
        "   total *= num\n",
        "  return total\n",
        "\n",
        "value = [1,2,3,4]\n",
        "my_numbers = multiply(value)\n",
        "print(f\"multiplication of given list is: {my_numbers}\")"
      ],
      "metadata": {
        "colab": {
          "base_uri": "https://localhost:8080/"
        },
        "id": "FIpF1MnbUcMp",
        "outputId": "a3c2e943-4476-4479-b6d9-4ba2974fca55"
      },
      "execution_count": null,
      "outputs": [
        {
          "output_type": "stream",
          "name": "stdout",
          "text": [
            "multiplication of given list is: 24\n"
          ]
        }
      ]
    },
    {
      "cell_type": "code",
      "source": [
        "def find_largest_number(my_list):\n",
        "  largest_so_far = my_list[0]\n",
        "  for num in my_list:\n",
        "   if num > largest_so_far:\n",
        "    largest_so_far = num\n",
        "  return largest_so_far\n",
        "\n",
        "my_list = [10,2,4,17,89,93,101]\n",
        "my_number = find_largest_number(my_list)\n",
        "print(f\"{my_number} is largest in the list\")\n"
      ],
      "metadata": {
        "colab": {
          "base_uri": "https://localhost:8080/"
        },
        "id": "Ov3sf9sSfg3U",
        "outputId": "fe10d825-ac92-4f91-d161-6acb01297496"
      },
      "execution_count": null,
      "outputs": [
        {
          "output_type": "stream",
          "name": "stdout",
          "text": [
            "101 is largest in the list\n"
          ]
        }
      ]
    },
    {
      "cell_type": "code",
      "source": [
        "def find_smallest_number(my_list):\n",
        "  if not my_list:\n",
        "    return None # Return None if the list is empty\n",
        "\n",
        "  smallest_now = my_list[0]\n",
        "  for num in my_list:\n",
        "    if num < smallest_now:\n",
        "      smallest_now = num\n",
        "  return smallest_now\n",
        "\n",
        "my_list = [42,17,93,4,11,101,8,29]\n",
        "my_number = find_smallest_number(my_list)\n",
        "print(f\"the smallest of list is {my_number}\")\n",
        "\n",
        "# Now, let's test it with an empty list\n",
        "empty_list = []\n",
        "smallest_from_empty = find_smallest_number(empty_list)\n",
        "print(f\"The smallest of the empty list is: {smallest_from_empty}\")"
      ],
      "metadata": {
        "colab": {
          "base_uri": "https://localhost:8080/"
        },
        "id": "XVlLlWJPjYFi",
        "outputId": "10e8e1ba-4390-4ff9-f605-c58be7de4bc5"
      },
      "execution_count": null,
      "outputs": [
        {
          "output_type": "stream",
          "name": "stdout",
          "text": [
            "the smallest of list is 4\n",
            "The smallest of the empty list is: None\n"
          ]
        }
      ]
    },
    {
      "cell_type": "code",
      "source": [
        "def find_smallest_with_while(my_list):\n",
        "  \"\"\"\n",
        "  This function finds the smallest number in a list using a while loop.\n",
        "  \"\"\"\n",
        "  if not my_list:\n",
        "    return None\n",
        "\n",
        "  smallest_now = my_list[0]\n",
        "  index = 1 # Start checking from the second element\n",
        "\n",
        "  while index < len(my_list):\n",
        "    if my_list[index] < smallest_now:\n",
        "      smallest_now = my_list[index]\n",
        "    index += 1 # Don't forget to increment the index!\n",
        "\n",
        "  return smallest_now\n",
        "\n",
        "# Test the function\n",
        "my_list = [42, 17, 93, 4, 11, 101, 8, 29]\n",
        "smallest_number = find_smallest_with_while(my_list)\n",
        "print(f\"The smallest number found with a while loop is: {smallest_number}\")"
      ],
      "metadata": {
        "id": "Q1UkvIfEkbJc"
      },
      "execution_count": null,
      "outputs": []
    },
    {
      "cell_type": "code",
      "source": [
        "def largest_number(my_list):\n",
        "  if not my_list:\n",
        "   return None\n",
        "\n",
        "  largest_so_far = my_list[0]\n",
        "  index = 1\n",
        "\n",
        "  while index < len(my_list):\n",
        "   if my_list[index] > largest_so_far:\n",
        "    largest_so_far = my_list[index]\n",
        "  index += 1\n",
        "  return largest_so_far\n",
        "\n",
        "my_list = [10, 2, 89, 93, 4, 17, 101]\n",
        "my_number = largest_number(my_list)\n",
        "print(f\"the largest number among given list is {my_number}\")"
      ],
      "metadata": {
        "id": "WOB9nyLByhOT"
      },
      "execution_count": null,
      "outputs": []
    },
    {
      "cell_type": "code",
      "source": [
        "def sum_of_list(my_list):\n",
        "    if not my_list:\n",
        "      return None\n",
        "    total = 0\n",
        "    index = 0\n",
        "    while index < len(my_list):\n",
        "      total += my_list[index]\n",
        "      index += 1\n",
        "    return total\n",
        "\n",
        "my_list = [10, 2, 89, 93, 4, 17, 101]\n",
        "my_number = sum_of_list(my_list)\n",
        "print(f\"the sum of the given list is: {my_number}\")\n"
      ],
      "metadata": {
        "colab": {
          "base_uri": "https://localhost:8080/"
        },
        "id": "gAfe5CR40Cjm",
        "outputId": "ea6ab01d-5880-48be-e695-d896f5348219"
      },
      "execution_count": null,
      "outputs": [
        {
          "output_type": "stream",
          "name": "stdout",
          "text": [
            "the sum of the given list is: 316\n"
          ]
        }
      ]
    },
    {
      "cell_type": "code",
      "source": [
        "def count_even_numbers(my_list):\n",
        "  if not my_list:\n",
        "    return 0\n",
        "  index = 0\n",
        "  count = 0\n",
        "  while index < len(my_list):\n",
        "    if my_list[index]%2 == 0:\n",
        "      count += 1\n",
        "    index += 1\n",
        "  return count\n",
        "\n",
        "my_list = [1,2,3,4,5,6,7,8,9,10]\n",
        "list_even = count_even_numbers(my_list)\n",
        "print(f\"the count of even numbers in the list is: {list_even}\")"
      ],
      "metadata": {
        "id": "-vohT881gnP5",
        "colab": {
          "base_uri": "https://localhost:8080/"
        },
        "outputId": "1b1cfd05-a88b-4716-b4fc-a7deed3299b5"
      },
      "execution_count": null,
      "outputs": [
        {
          "output_type": "stream",
          "name": "stdout",
          "text": [
            "the count of even numbers in the list is: 5\n"
          ]
        }
      ]
    },
    {
      "cell_type": "code",
      "source": [
        "def reverse_list(my_list):\n",
        "    reversed_list = []\n",
        "\n",
        "    index = len(my_list) - 1\n",
        "    while index >= 0:\n",
        "      reversed_list.append(my_list[index])\n",
        "      index -= 1\n",
        "    return reversed_list\n",
        "\n",
        "my_list = [1,2,3,4,5,6]\n",
        "reversed_lists = reverse_list(my_list)\n",
        "print(f\" the reveresed list is: {reversed_lists}\")"
      ],
      "metadata": {
        "id": "wDWiGrJXvpPZ",
        "colab": {
          "base_uri": "https://localhost:8080/"
        },
        "outputId": "96eb4cc6-273c-4f28-e83a-a78c48e867a5"
      },
      "execution_count": null,
      "outputs": [
        {
          "output_type": "stream",
          "name": "stdout",
          "text": [
            " the reveresed list is: [6, 5, 4, 3, 2, 1]\n"
          ]
        }
      ]
    },
    {
      "cell_type": "code",
      "metadata": {
        "colab": {
          "base_uri": "https://localhost:8080/"
        },
        "id": "a37c8239",
        "outputId": "b14944e7-d121-4fc7-84b3-8ae932ae880b"
      },
      "source": [
        "def common_numbers(list_1, list_2):\n",
        "  common_list = []\n",
        "  i = 0\n",
        "  while i < len(list_1):\n",
        "    j = 0\n",
        "    while j < len(list_2):\n",
        "       if list_1[i] == list_2[j]:\n",
        "         common_list.append(list_1[i])\n",
        "         break\n",
        "       j += 1\n",
        "    i += 1\n",
        "  return common_list\n",
        "\n",
        "list_1 = [1,2,3,4,5,6]\n",
        "list_2 = [3,4,5,6,7,8]\n",
        "numbers = common_numbers(list_1, list_2)\n",
        "print(f\"common numbers in list are: {numbers}\")"
      ],
      "execution_count": null,
      "outputs": [
        {
          "output_type": "stream",
          "name": "stdout",
          "text": [
            "common numbers in list are: [3, 4, 5, 6]\n"
          ]
        }
      ]
    },
    {
      "cell_type": "code",
      "source": [],
      "metadata": {
        "id": "x0O6_1Lbz4Iz"
      },
      "execution_count": null,
      "outputs": []
    },
    {
      "cell_type": "code",
      "metadata": {
        "colab": {
          "base_uri": "https://localhost:8080/"
        },
        "id": "59fb1cde",
        "outputId": "a49674ae-d37e-4c7a-f7d8-07f2147eb885"
      },
      "source": [
        "# Test Case 1: Lists with no common numbers\n",
        "list_3 = [10, 20, 30]\n",
        "list_4 = [11, 22, 33]\n",
        "no_common = common_numbers(list_3, list_4)\n",
        "print(f\"Common numbers in list_3 and list_4 are: {no_common}\")\n",
        "\n",
        "# Test Case 2: Lists of different lengths with some common numbers\n",
        "list_5 = [1, 5, 9, 12, 15, 20]\n",
        "list_6 = [5, 10, 15, 25]\n",
        "some_common = common_numbers(list_5, list_6)\n",
        "print(f\"Common numbers in list_5 and list_6 are: {some_common}\")"
      ],
      "execution_count": null,
      "outputs": [
        {
          "output_type": "stream",
          "name": "stdout",
          "text": [
            "Common numbers in list_3 and list_4 are: []\n",
            "Common numbers in list_5 and list_6 are: [5, 15]\n"
          ]
        }
      ]
    },
    {
      "cell_type": "code",
      "source": [
        "def uncommon_numbers(list_1, list_2):\n",
        "  common_list = []\n",
        "  uncommon_list = []\n",
        "  i = list_1[0]\n",
        "  is_common = False\n",
        "\n",
        "  for num1 in list_1:\n",
        "    j = list_2[0]\n",
        "   for num2 in list_2:\n",
        "    if\n",
        "\n",
        "\n",
        "list_1 = [1, 5, 9, 12, 15, 20]\n",
        "list_2 = [5, 10, 15, 25]\n",
        "un_common = uncommon_numbers(list_1, list_2)\n",
        "print(f\"Uncommon numbers in above lists are: {un_common}\")"
      ],
      "metadata": {
        "colab": {
          "base_uri": "https://localhost:8080/"
        },
        "id": "uNnnc3MZ4UQO",
        "outputId": "3d2dacbf-8e72-49f6-d8a7-27d528d8ef7c"
      },
      "execution_count": null,
      "outputs": [
        {
          "output_type": "stream",
          "name": "stdout",
          "text": [
            "Uncommon numbers in above lists are: [5, 10, 15, 25]\n"
          ]
        }
      ]
    },
    {
      "cell_type": "code",
      "metadata": {
        "colab": {
          "base_uri": "https://localhost:8080/"
        },
        "id": "302bdee4",
        "outputId": "ff917214-4de2-4d13-ffc4-f68767c26b40"
      },
      "source": [
        "def find_uncommon_with_for(list_1, list_2):\n",
        "    \"\"\"\n",
        "    This function finds the numbers that are not common between two lists,\n",
        "    using for loops.\n",
        "    \"\"\"\n",
        "    uncommon_list = []\n",
        "\n",
        "    # Part 1: Find numbers in list_1 that are NOT in list_2\n",
        "    for num1 in list_1:\n",
        "        is_found = False  # Assume the number is not in list_2\n",
        "        for num2 in list_2:\n",
        "            if num1 == num2:\n",
        "                is_found = True  # We found a match, so set the flag to True\n",
        "                break  # No need to search anymore in list_2, so we break\n",
        "\n",
        "        # After checking all of list_2, check the flag.\n",
        "        # If is_found is still False, it means no match was ever found.\n",
        "        if not is_found:\n",
        "            uncommon_list.append(num1)\n",
        "\n",
        "    # Part 2: Find numbers in list_2 that are NOT in list_1\n",
        "    for num2 in list_2:\n",
        "        is_found = False # Reset the flag for each new number from list_2\n",
        "        for num1 in list_1:\n",
        "            if num2 == num1:\n",
        "                is_found = True\n",
        "                break\n",
        "\n",
        "        if not is_found:\n",
        "            uncommon_list.append(num2)\n",
        "\n",
        "    return uncommon_list\n",
        "\n",
        "# Let's test it\n",
        "list_a = [1, 5, 9, 12, 15, 20]\n",
        "list_b = [5, 10, 15, 25]\n",
        "uncommon_result = find_uncommon_with_for(list_a, list_b)\n",
        "print(f\"The uncommon numbers are: {uncommon_result}\")"
      ],
      "execution_count": null,
      "outputs": [
        {
          "output_type": "stream",
          "name": "stdout",
          "text": [
            "The uncommon numbers are: [1, 9, 12, 20, 10, 25]\n"
          ]
        }
      ]
    },
    {
      "cell_type": "code",
      "source": [
        "def check_uncomm_numbers_using_while(list_a, list_b):\n",
        "  uncommon_list = []\n",
        "  i = 0\n",
        "  while i < len(list_a):\n",
        "    match_found = False\n",
        "    j = 0\n",
        "    while j < len(list_b):\n",
        "      if list_a[i] == list_b[j]:\n",
        "        match_found = True\n",
        "        break\n",
        "      j += 1\n",
        "\n",
        "    if match_found == False:\n",
        "      uncommon_list.append(list_a[i])\n",
        "    i += 1\n",
        "\n",
        "  j = 0\n",
        "  while j < len(list_b):\n",
        "    match_found = False\n",
        "    i = 0\n",
        "    while i < len(list_a):\n",
        "      if list_b[j] == list_a[i]:\n",
        "        match_found = True\n",
        "        break\n",
        "      i += 1\n",
        "\n",
        "    if match_found == False:\n",
        "      uncommon_list.append(list_b[j])\n",
        "    j += 1\n",
        "\n",
        "  return uncommon_list\n",
        "\n",
        "list_a = [1, 5, 9, 12, 30, 20]\n",
        "list_b = [5, 10, 15, 25]\n",
        "uncommon_result = check_uncomm_numbers_using_while(list_a, list_b)\n",
        "print(f\"The uncommon numbers are: {uncommon_result}\")"
      ],
      "metadata": {
        "colab": {
          "base_uri": "https://localhost:8080/"
        },
        "id": "gIx4R5sQnux-",
        "outputId": "bfe30ee5-038b-47e2-8a8d-4fb5acdddbe4"
      },
      "execution_count": null,
      "outputs": [
        {
          "output_type": "stream",
          "name": "stdout",
          "text": [
            "The uncommon numbers are: [1, 9, 12, 30, 20, 10, 15, 25]\n"
          ]
        }
      ]
    },
    {
      "cell_type": "code",
      "source": [
        "def print_numbers_above10(list_a):\n",
        "  greater_list = []\n",
        "  i = 0\n",
        "  while i < len(list_a):\n",
        "    if list_a[i] > 10:\n",
        "      greater_list.append(list_a[i])\n",
        "\n",
        "    i += 1\n",
        "  return greater_list\n",
        "\n",
        "list_a = [1, 5, 9, 12, 15, 20]\n",
        "greater_than_10 = print_numbers_above10(list_a)\n",
        "print(f\" the valeues are: {greater_than_10}\")\n"
      ],
      "metadata": {
        "colab": {
          "base_uri": "https://localhost:8080/"
        },
        "id": "Dqfk7Oj_wqtp",
        "outputId": "a2ec50e6-162c-43f9-8040-b8aa499a3e49"
      },
      "execution_count": null,
      "outputs": [
        {
          "output_type": "stream",
          "name": "stdout",
          "text": [
            " the valeues are: [12, 15, 20]\n"
          ]
        }
      ]
    },
    {
      "cell_type": "markdown",
      "source": [
        "**Local and global variables**\n"
      ],
      "metadata": {
        "id": "E6IB2_rtHNeN"
      }
    },
    {
      "cell_type": "code",
      "source": [
        "global_variable = \"Iam global\"\n",
        "\n",
        "def local_variable():\n",
        "  name = \"local variable\"\n",
        "  print(name)\n",
        "\n",
        "\n",
        "local_variable()\n",
        "print(global_variable)\n"
      ],
      "metadata": {
        "colab": {
          "base_uri": "https://localhost:8080/"
        },
        "id": "xaBXgtKQHUS-",
        "outputId": "0b87a299-6f82-479f-c111-0bc577601980"
      },
      "execution_count": null,
      "outputs": [
        {
          "output_type": "stream",
          "name": "stdout",
          "text": [
            "local variable\n",
            "Iam global\n"
          ]
        }
      ]
    },
    {
      "cell_type": "code",
      "source": [
        "def count_long_strings(list, number):\n",
        "  count = 0\n",
        "  for s in list:\n",
        "    if len(s) > number:\n",
        "      count += 1\n",
        "  return count\n",
        "\n",
        "list = ['apple', 'banana', 'cat', 'elephant']\n",
        "number = 3\n",
        "my_count = count_long_strings(list, number)\n",
        "print(f\"the count of strings that has characters more than 5 are: {my_count}\")"
      ],
      "metadata": {
        "colab": {
          "base_uri": "https://localhost:8080/"
        },
        "id": "mjPTNjwKH8r5",
        "outputId": "368ace31-7fcd-4dea-d599-190d4aab19e6"
      },
      "execution_count": null,
      "outputs": [
        {
          "output_type": "stream",
          "name": "stdout",
          "text": [
            "the count of strings that has characters more than 5 are: 3\n"
          ]
        }
      ]
    },
    {
      "cell_type": "code",
      "source": [
        "# Regular function\n",
        "def multiply(x, y):\n",
        "    return x * y\n",
        "# Equivalent lambda function\n",
        "multiply_lambda = lambda x, y: x * y\n",
        "\n",
        "print(multiply(4, 5))\n",
        "print(multiply_lambda(4, 5))\n",
        "\n",
        "# Using lambda with sorted()\n",
        "points = [(1, 2), (0, 5), (3, 1)]\n",
        "# Sort by the second element of each tuple\n",
        "sorted_points = sorted(points, key=lambda point: point[1])\n",
        "print(sorted_points) # Output: [(3, 1), (1, 2), (0, 5)]\n"
      ],
      "metadata": {
        "colab": {
          "base_uri": "https://localhost:8080/"
        },
        "id": "fiJ4_FxKRJwD",
        "outputId": "4218a3db-9d19-46ec-ab77-46835f0b6798"
      },
      "execution_count": null,
      "outputs": [
        {
          "output_type": "stream",
          "name": "stdout",
          "text": [
            "20\n",
            "20\n",
            "[(3, 1), (1, 2), (0, 5)]\n"
          ]
        }
      ]
    },
    {
      "cell_type": "code",
      "source": [
        "def calculate_area(length, width):\n",
        "  area = length * width\n",
        "  return area\n",
        "\n",
        "length = 4\n",
        "width = 5\n",
        "final_result = calculate_area(length, width)\n",
        "print(f\"area of element: {final_result}\")"
      ],
      "metadata": {
        "colab": {
          "base_uri": "https://localhost:8080/"
        },
        "id": "MSWbMGVBRqbX",
        "outputId": "65ae9b8f-2b34-4c57-f1bb-e21d790c3e04"
      },
      "execution_count": null,
      "outputs": [
        {
          "output_type": "stream",
          "name": "stdout",
          "text": [
            "area of element: 20\n"
          ]
        }
      ]
    },
    {
      "cell_type": "code",
      "source": [
        "def check_even_odd(number = 0):\n",
        "  if number == 0:\n",
        "    return \"even (default)\"\n",
        "\n",
        "  if number%2 == 0:\n",
        "    return \"even\"\n",
        "  else:\n",
        "    return \"odd\"\n",
        "\n",
        "result = check_even_odd(13)\n",
        "print(f\"the result is {result}\")\n"
      ],
      "metadata": {
        "colab": {
          "base_uri": "https://localhost:8080/"
        },
        "id": "VIBvH_LncnqJ",
        "outputId": "964f62da-5628-4b8f-f706-5d918f7e9200"
      },
      "execution_count": null,
      "outputs": [
        {
          "output_type": "stream",
          "name": "stdout",
          "text": [
            "the result is odd\n"
          ]
        }
      ]
    },
    {
      "cell_type": "code",
      "source": [
        "number_lambda = lambda x: x > 10\n",
        "print(f\"is 12 greater than 10? {number_lambda(12)}\")\n",
        "print(f\"is 10 greater than 10? {number_lambda(10)}\")"
      ],
      "metadata": {
        "colab": {
          "base_uri": "https://localhost:8080/"
        },
        "id": "fcCXO8wjdDuL",
        "outputId": "daa062fe-b9d9-4337-ec43-97b8a290cb00"
      },
      "execution_count": null,
      "outputs": [
        {
          "output_type": "stream",
          "name": "stdout",
          "text": [
            "is 12 greater than 10? True\n",
            "is 10 greater than 10? False\n"
          ]
        }
      ]
    },
    {
      "cell_type": "code",
      "metadata": {
        "colab": {
          "base_uri": "https://localhost:8080/"
        },
        "id": "61169189",
        "outputId": "2a29046f-1d69-4b8b-e323-be262e139425"
      },
      "source": [
        "# Define the lambda function\n",
        "is_greater_than_10 = lambda x: x > 10\n",
        "\n",
        "# --- Test Cases ---\n",
        "\n",
        "# Test with a number greater than 10\n",
        "print(f\"Is 15 greater than 10? {is_greater_than_10(15)}\")\n",
        "\n",
        "# Test with a number less than 10\n",
        "print(f\"Is 5 greater than 10? {is_greater_than_10(5)}\")\n",
        "\n",
        "# Test with the number 10\n",
        "print(f\"Is 10 greater than 10? {is_greater_than_10(10)}\")"
      ],
      "execution_count": null,
      "outputs": [
        {
          "output_type": "stream",
          "name": "stdout",
          "text": [
            "Is 15 greater than 10? True\n",
            "Is 5 greater than 10? False\n",
            "Is 10 greater than 10? False\n"
          ]
        }
      ]
    },
    {
      "cell_type": "code",
      "source": [
        "def find_first_long_string(list):\n",
        "  # Loop through each string in the list\n",
        "  for s in list:\n",
        "    # If we find a string longer than 5, return it immediately\n",
        "    if len(s) > 5:\n",
        "      return s\n",
        "\n",
        "  # This line will only be reached if the loop finishes\n",
        "  # without ever finding a long string.\n",
        "  return \"No long string found\"\n",
        "\n",
        "\n",
        "list = ['a', 'cat', 'banana', 'elephant']\n",
        "result = find_first_long_string(list)\n",
        "print(f\"the long string is {result}\")\n",
        "\n",
        "# Test with another list where no long string exists\n",
        "list2 = ['a', 'b', 'c']\n",
        "result2 = find_first_long_string(list2)\n",
        "print(f\"the long string is {result2}\")"
      ],
      "metadata": {
        "colab": {
          "base_uri": "https://localhost:8080/"
        },
        "id": "z3ia5Gg8GzAp",
        "outputId": "d8b7f05f-a749-440f-bf18-7fc28ad7926e"
      },
      "execution_count": null,
      "outputs": [
        {
          "output_type": "stream",
          "name": "stdout",
          "text": [
            "the long string is banana\n",
            "the long string is No long string found\n"
          ]
        }
      ]
    },
    {
      "cell_type": "code",
      "source": [
        "def find_last_short_string(string_list, max_length):\n",
        "  # 1. Initialize a variable to hold our result.\n",
        "  # Start with the \"not found\" message.\n",
        "  last_shorty = \"No short string found\"\n",
        "\n",
        "  # 2. Loop through the entire list.\n",
        "  for s in string_list:\n",
        "    # 3. If we find a string that meets the condition...\n",
        "    if len(s) <= max_length:\n",
        "      # ...update our variable with this new \"last seen\" short string.\n",
        "      last_shorty = s\n",
        "\n",
        "  # 4. AFTER the loop is completely finished, return the variable.\n",
        "  # It will either hold the last short string found, or the original message.\n",
        "  return last_shorty\n",
        "\n",
        "\n",
        "# --- Test Cases ---\n",
        "my_list1 = ['apple', 'banana', 'cat', 'dog', 'elephant']\n",
        "max_len1 = 4\n",
        "result1 = find_last_short_string(my_list1, max_len1)\n",
        "print(f\"In {my_list1}, the last short string is: {result1}\") # Expected: dog\n",
        "\n",
        "my_list2 = ['spaghetti', 'lasagna', 'ravioli']\n",
        "max_len2 = 5\n",
        "result2 = find_last_short_string(my_list2, max_len2)\n",
        "print(f\"In {my_list2}, the last short string is: {result2}\") # Expected: No short string found"
      ],
      "metadata": {
        "colab": {
          "base_uri": "https://localhost:8080/"
        },
        "id": "slYQ7cCrWoBL",
        "outputId": "6cd74530-e5a2-42d3-c11d-54f1a1b8c71b"
      },
      "execution_count": null,
      "outputs": [
        {
          "output_type": "stream",
          "name": "stdout",
          "text": [
            "In ['apple', 'banana', 'cat', 'dog', 'elephant'], the last short string is: dog\n",
            "In ['spaghetti', 'lasagna', 'ravioli'], the last short string is: No short string found\n"
          ]
        }
      ]
    },
    {
      "cell_type": "code",
      "metadata": {
        "colab": {
          "base_uri": "https://localhost:8080/"
        },
        "id": "041e4e51",
        "outputId": "7523b71f-0725-43d2-c19a-83c57912e840"
      },
      "source": [
        "# --- SCENARIO 1: Initialize BEFORE the loop (Accumulating a Value) ---\n",
        "\n",
        "print(\"--- SCENARIO 1: Summing a list ---\")\n",
        "numbers_to_sum = [10, 20, 30]\n",
        "\n",
        "# We initialize 'total' to 0 BEFORE the loop starts.\n",
        "total = 0\n",
        "print(f\"Before loop, total is: {total}\")\n",
        "\n",
        "for num in numbers_to_sum:\n",
        "  total = total + num\n",
        "  print(f\"  Inside loop, after adding {num}, total is now: {total}\")\n",
        "\n",
        "print(f\"After loop, the final total is: {total}\\n\")\n",
        "\n",
        "\n",
        "# --- SCENARIO 2: Initialize INSIDE the loop (Resetting a Value) ---\n",
        "\n",
        "print(\"--- SCENARIO 2: Checking for even numbers ---\")\n",
        "numbers_to_check = [3, 4, 5]\n",
        "\n",
        "for num in numbers_to_check:\n",
        "  # We initialize 'is_even' to False INSIDE the loop.\n",
        "  # This ensures we get a fresh start for every number.\n",
        "  is_even = False\n",
        "  print(f\"  For number {num}, 'is_even' starts as: {is_even}\")\n",
        "\n",
        "  if num % 2 == 0:\n",
        "    is_even = True # We only change it if the condition is met\n",
        "\n",
        "  print(f\"  After checking {num}, 'is_even' is: {is_even}\")"
      ],
      "execution_count": null,
      "outputs": [
        {
          "output_type": "stream",
          "name": "stdout",
          "text": [
            "--- SCENARIO 1: Summing a list ---\n",
            "Before loop, total is: 0\n",
            "  Inside loop, after adding 10, total is now: 10\n",
            "  Inside loop, after adding 20, total is now: 30\n",
            "  Inside loop, after adding 30, total is now: 60\n",
            "After loop, the final total is: 60\n",
            "\n",
            "--- SCENARIO 2: Checking for even numbers ---\n",
            "  For number 3, 'is_even' starts as: False\n",
            "  After checking 3, 'is_even' is: False\n",
            "  For number 4, 'is_even' starts as: False\n",
            "  After checking 4, 'is_even' is: True\n",
            "  For number 5, 'is_even' starts as: False\n",
            "  After checking 5, 'is_even' is: False\n"
          ]
        }
      ]
    },
    {
      "cell_type": "code",
      "source": [
        "def find_first_even_number(list):\n",
        "  for n in list:\n",
        "    even = False\n",
        "    if n%2 == 0:\n",
        "      even = True\n",
        "      return n\n",
        "\n",
        "\n",
        "list = [3, 4, 5, 6, 7, 8, 9, 10]\n",
        "result = find_first_even_number(list)\n",
        "print(f\"The first even number in the list is {result}\")"
      ],
      "metadata": {
        "id": "7JxXDdtF2g49",
        "colab": {
          "base_uri": "https://localhost:8080/"
        },
        "outputId": "1c176aaa-43d5-4be7-abcc-0861f59ad359"
      },
      "execution_count": null,
      "outputs": [
        {
          "output_type": "stream",
          "name": "stdout",
          "text": [
            "The first even number in the list is 4\n"
          ]
        }
      ]
    },
    {
      "cell_type": "code",
      "metadata": {
        "colab": {
          "base_uri": "https://localhost:8080/"
        },
        "id": "21717f56",
        "outputId": "049590df-7a7f-46f0-dc69-df175340045f"
      },
      "source": [
        "def find_last_even_number(my_list):\n",
        "  last_even = None  # Start with a default value\n",
        "  for n in my_list:\n",
        "    if n % 2 == 0:\n",
        "      last_even = n # We found an even number, so we remember it\n",
        "  return last_even\n",
        "\n",
        "my_list = [3, 4, 5, 6, 7, 8, 9, 10, 11]\n",
        "result = find_last_even_number(my_list)\n",
        "print(f\"The first even number in the list is {result}\")\n"
      ],
      "execution_count": null,
      "outputs": [
        {
          "output_type": "stream",
          "name": "stdout",
          "text": [
            "The first even number in the list is 10\n"
          ]
        }
      ]
    }
  ]
}